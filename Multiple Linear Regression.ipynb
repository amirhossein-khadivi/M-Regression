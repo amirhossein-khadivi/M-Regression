{
 "cells": [
  {
   "cell_type": "markdown",
   "id": "quarterly-backing",
   "metadata": {},
   "source": [
    "# Multiple Linear Regression"
   ]
  },
  {
   "cell_type": "markdown",
   "id": "adequate-phrase",
   "metadata": {},
   "source": [
    "## Author : Amirhossein Khadivi\n",
    "[Linkedin]:https://www.linkedin.com/in/amirhossein-khadivi\n",
    "\n",
    "### [Linkedin][linkedin]\n",
    "\n",
    "[github]:https://www.github.com/amirhossein-khadivi\n",
    "\n",
    "### [Github][github]"
   ]
  },
  {
   "cell_type": "markdown",
   "id": "incident-michael",
   "metadata": {},
   "source": [
    "#### .ابتدا داده ها را وارد کرده و در غالب یک دیتافریم نمایش میدهیم"
   ]
  },
  {
   "cell_type": "code",
   "execution_count": 20,
   "id": "talented-league",
   "metadata": {},
   "outputs": [
    {
     "data": {
      "text/html": [
       "<div>\n",
       "<style scoped>\n",
       "    .dataframe tbody tr th:only-of-type {\n",
       "        vertical-align: middle;\n",
       "    }\n",
       "\n",
       "    .dataframe tbody tr th {\n",
       "        vertical-align: top;\n",
       "    }\n",
       "\n",
       "    .dataframe thead th {\n",
       "        text-align: right;\n",
       "    }\n",
       "</style>\n",
       "<table border=\"1\" class=\"dataframe\">\n",
       "  <thead>\n",
       "    <tr style=\"text-align: right;\">\n",
       "      <th></th>\n",
       "      <th>y</th>\n",
       "      <th>x1</th>\n",
       "      <th>x2</th>\n",
       "    </tr>\n",
       "  </thead>\n",
       "  <tbody>\n",
       "    <tr>\n",
       "      <th>0</th>\n",
       "      <td>1.45</td>\n",
       "      <td>0.58</td>\n",
       "      <td>0.71</td>\n",
       "    </tr>\n",
       "    <tr>\n",
       "      <th>1</th>\n",
       "      <td>1.93</td>\n",
       "      <td>0.86</td>\n",
       "      <td>0.13</td>\n",
       "    </tr>\n",
       "    <tr>\n",
       "      <th>2</th>\n",
       "      <td>0.81</td>\n",
       "      <td>0.29</td>\n",
       "      <td>0.79</td>\n",
       "    </tr>\n",
       "    <tr>\n",
       "      <th>3</th>\n",
       "      <td>0.61</td>\n",
       "      <td>0.20</td>\n",
       "      <td>0.20</td>\n",
       "    </tr>\n",
       "    <tr>\n",
       "      <th>4</th>\n",
       "      <td>1.55</td>\n",
       "      <td>0.56</td>\n",
       "      <td>0.56</td>\n",
       "    </tr>\n",
       "    <tr>\n",
       "      <th>5</th>\n",
       "      <td>0.95</td>\n",
       "      <td>0.28</td>\n",
       "      <td>0.92</td>\n",
       "    </tr>\n",
       "    <tr>\n",
       "      <th>6</th>\n",
       "      <td>0.45</td>\n",
       "      <td>0.08</td>\n",
       "      <td>0.01</td>\n",
       "    </tr>\n",
       "    <tr>\n",
       "      <th>7</th>\n",
       "      <td>1.14</td>\n",
       "      <td>0.41</td>\n",
       "      <td>0.60</td>\n",
       "    </tr>\n",
       "    <tr>\n",
       "      <th>8</th>\n",
       "      <td>0.74</td>\n",
       "      <td>0.22</td>\n",
       "      <td>0.70</td>\n",
       "    </tr>\n",
       "    <tr>\n",
       "      <th>9</th>\n",
       "      <td>0.98</td>\n",
       "      <td>0.35</td>\n",
       "      <td>0.73</td>\n",
       "    </tr>\n",
       "    <tr>\n",
       "      <th>10</th>\n",
       "      <td>1.41</td>\n",
       "      <td>0.59</td>\n",
       "      <td>0.13</td>\n",
       "    </tr>\n",
       "    <tr>\n",
       "      <th>11</th>\n",
       "      <td>0.81</td>\n",
       "      <td>0.22</td>\n",
       "      <td>0.96</td>\n",
       "    </tr>\n",
       "    <tr>\n",
       "      <th>12</th>\n",
       "      <td>0.89</td>\n",
       "      <td>0.26</td>\n",
       "      <td>0.27</td>\n",
       "    </tr>\n",
       "    <tr>\n",
       "      <th>13</th>\n",
       "      <td>0.68</td>\n",
       "      <td>0.12</td>\n",
       "      <td>0.21</td>\n",
       "    </tr>\n",
       "    <tr>\n",
       "      <th>14</th>\n",
       "      <td>1.39</td>\n",
       "      <td>0.65</td>\n",
       "      <td>0.88</td>\n",
       "    </tr>\n",
       "    <tr>\n",
       "      <th>15</th>\n",
       "      <td>1.53</td>\n",
       "      <td>0.70</td>\n",
       "      <td>0.30</td>\n",
       "    </tr>\n",
       "    <tr>\n",
       "      <th>16</th>\n",
       "      <td>0.91</td>\n",
       "      <td>0.30</td>\n",
       "      <td>0.15</td>\n",
       "    </tr>\n",
       "    <tr>\n",
       "      <th>17</th>\n",
       "      <td>1.49</td>\n",
       "      <td>0.70</td>\n",
       "      <td>0.09</td>\n",
       "    </tr>\n",
       "    <tr>\n",
       "      <th>18</th>\n",
       "      <td>1.38</td>\n",
       "      <td>0.39</td>\n",
       "      <td>0.17</td>\n",
       "    </tr>\n",
       "    <tr>\n",
       "      <th>19</th>\n",
       "      <td>1.73</td>\n",
       "      <td>0.72</td>\n",
       "      <td>0.25</td>\n",
       "    </tr>\n",
       "    <tr>\n",
       "      <th>20</th>\n",
       "      <td>1.11</td>\n",
       "      <td>0.45</td>\n",
       "      <td>0.30</td>\n",
       "    </tr>\n",
       "    <tr>\n",
       "      <th>21</th>\n",
       "      <td>1.68</td>\n",
       "      <td>0.81</td>\n",
       "      <td>0.32</td>\n",
       "    </tr>\n",
       "    <tr>\n",
       "      <th>22</th>\n",
       "      <td>0.66</td>\n",
       "      <td>0.04</td>\n",
       "      <td>0.82</td>\n",
       "    </tr>\n",
       "    <tr>\n",
       "      <th>23</th>\n",
       "      <td>0.69</td>\n",
       "      <td>0.20</td>\n",
       "      <td>0.98</td>\n",
       "    </tr>\n",
       "    <tr>\n",
       "      <th>24</th>\n",
       "      <td>1.98</td>\n",
       "      <td>0.95</td>\n",
       "      <td>0.00</td>\n",
       "    </tr>\n",
       "  </tbody>\n",
       "</table>\n",
       "</div>"
      ],
      "text/plain": [
       "       y    x1    x2\n",
       "0   1.45  0.58  0.71\n",
       "1   1.93  0.86  0.13\n",
       "2   0.81  0.29  0.79\n",
       "3   0.61  0.20  0.20\n",
       "4   1.55  0.56  0.56\n",
       "5   0.95  0.28  0.92\n",
       "6   0.45  0.08  0.01\n",
       "7   1.14  0.41  0.60\n",
       "8   0.74  0.22  0.70\n",
       "9   0.98  0.35  0.73\n",
       "10  1.41  0.59  0.13\n",
       "11  0.81  0.22  0.96\n",
       "12  0.89  0.26  0.27\n",
       "13  0.68  0.12  0.21\n",
       "14  1.39  0.65  0.88\n",
       "15  1.53  0.70  0.30\n",
       "16  0.91  0.30  0.15\n",
       "17  1.49  0.70  0.09\n",
       "18  1.38  0.39  0.17\n",
       "19  1.73  0.72  0.25\n",
       "20  1.11  0.45  0.30\n",
       "21  1.68  0.81  0.32\n",
       "22  0.66  0.04  0.82\n",
       "23  0.69  0.20  0.98\n",
       "24  1.98  0.95  0.00"
      ]
     },
     "execution_count": 20,
     "metadata": {},
     "output_type": "execute_result"
    }
   ],
   "source": [
    "import pandas as pd\n",
    "\n",
    "data = pd.DataFrame(\n",
    "    {\n",
    "       'y' : [1.45,1.93,0.81,0.61,1.55,0.95,0.45,1.14,0.74,0.98,1.41,0.81,0.89\n",
    "              ,0.68,1.39,1.53,0.91,1.49,1.38,1.73,1.11 ,1.68,0.66,0.69,1.98],\n",
    "       'x1' : [0.58,0.86,0.29,0.20,0.56,0.28,0.08,0.41,0.22,0.35,0.59,0.22\n",
    "              ,0.26,0.12,0.65,0.70,0.30,0.70,0.39,0.72,0.45,0.81,0.04,0.20,0.95],\n",
    "       'x2' : [0.71,0.13,0.79,0.20,0.56,0.92,0.01,0.60,0.70,0.73,0.13,\n",
    "              0.96,0.27,0.21,0.88,0.30,0.15,0.09,0.17,0.25,0.30,0.32,0.82,0.98,0.00]\n",
    "    }\n",
    "    , dtype = float\n",
    ")\n",
    "data"
   ]
  },
  {
   "cell_type": "markdown",
   "id": "resistant-northeast",
   "metadata": {},
   "source": [
    "#### در ادامه داده های مربوط به متغیر پاسخ را در یک متغیر و داده های متغیرهای توضیحی را هم در یک متغیر دیگر ذخیره میکنیم\n",
    "#### .و ابعاد متغیر ها را اصلاح میکنیم\n",
    "\n",
    "####  y : متغیر پاسخ\n",
    "####  x : ماتریس متغیرهای توضیحی\n",
    "####  x1 : متغیر توضیحی اول\n",
    "####  x2 : متغیر توضیحی دوم"
   ]
  },
  {
   "cell_type": "code",
   "execution_count": 21,
   "id": "frequent-hungarian",
   "metadata": {},
   "outputs": [],
   "source": [
    "import numpy as np\n",
    "y = np.array(data['y']).reshape(25,1)\n",
    "x = np.array(data[['x1','x2']]).reshape(25,2)"
   ]
  },
  {
   "cell_type": "markdown",
   "id": "pregnant-honor",
   "metadata": {},
   "source": [
    "#### .یک مدل خطی چندگانه به داده هایمان برازش میدهیم statmodels با کمک کتابخانه\n",
    "#### .عرض از مبدا را به مدل اضافه میکنیم add_constant به صورت پیشفرض مدل را بدون عرض از مبدا برازش میدهد ، بنابراین با تابع OLS تابع"
   ]
  },
  {
   "cell_type": "code",
   "execution_count": 22,
   "id": "similar-malta",
   "metadata": {},
   "outputs": [
    {
     "data": {
      "text/html": [
       "<table class=\"simpletable\">\n",
       "<caption>OLS Regression Results</caption>\n",
       "<tr>\n",
       "  <th>Dep. Variable:</th>            <td>y</td>        <th>  R-squared:         </th> <td>   0.940</td>\n",
       "</tr>\n",
       "<tr>\n",
       "  <th>Model:</th>                   <td>OLS</td>       <th>  Adj. R-squared:    </th> <td>   0.934</td>\n",
       "</tr>\n",
       "<tr>\n",
       "  <th>Method:</th>             <td>Least Squares</td>  <th>  F-statistic:       </th> <td>   172.0</td>\n",
       "</tr>\n",
       "<tr>\n",
       "  <th>Date:</th>             <td>Fri, 15 Apr 2022</td> <th>  Prob (F-statistic):</th> <td>3.70e-14</td>\n",
       "</tr>\n",
       "<tr>\n",
       "  <th>Time:</th>                 <td>15:07:56</td>     <th>  Log-Likelihood:    </th> <td>  20.696</td>\n",
       "</tr>\n",
       "<tr>\n",
       "  <th>No. Observations:</th>      <td>    25</td>      <th>  AIC:               </th> <td>  -35.39</td>\n",
       "</tr>\n",
       "<tr>\n",
       "  <th>Df Residuals:</th>          <td>    22</td>      <th>  BIC:               </th> <td>  -31.74</td>\n",
       "</tr>\n",
       "<tr>\n",
       "  <th>Df Model:</th>              <td>     2</td>      <th>                     </th>     <td> </td>   \n",
       "</tr>\n",
       "<tr>\n",
       "  <th>Covariance Type:</th>      <td>nonrobust</td>    <th>                     </th>     <td> </td>   \n",
       "</tr>\n",
       "</table>\n",
       "<table class=\"simpletable\">\n",
       "<tr>\n",
       "    <td></td>       <th>coef</th>     <th>std err</th>      <th>t</th>      <th>P>|t|</th>  <th>[0.025</th>    <th>0.975]</th>  \n",
       "</tr>\n",
       "<tr>\n",
       "  <th>const</th> <td>    0.4335</td> <td>    0.066</td> <td>    6.571</td> <td> 0.000</td> <td>    0.297</td> <td>    0.570</td>\n",
       "</tr>\n",
       "<tr>\n",
       "  <th>x1</th>    <td>    1.6530</td> <td>    0.095</td> <td>   17.355</td> <td> 0.000</td> <td>    1.455</td> <td>    1.851</td>\n",
       "</tr>\n",
       "<tr>\n",
       "  <th>x2</th>    <td>    0.0039</td> <td>    0.075</td> <td>    0.053</td> <td> 0.958</td> <td>   -0.151</td> <td>    0.159</td>\n",
       "</tr>\n",
       "</table>\n",
       "<table class=\"simpletable\">\n",
       "<tr>\n",
       "  <th>Omnibus:</th>       <td> 6.353</td> <th>  Durbin-Watson:     </th> <td>   2.228</td>\n",
       "</tr>\n",
       "<tr>\n",
       "  <th>Prob(Omnibus):</th> <td> 0.042</td> <th>  Jarque-Bera (JB):  </th> <td>   4.413</td>\n",
       "</tr>\n",
       "<tr>\n",
       "  <th>Skew:</th>          <td> 0.963</td> <th>  Prob(JB):          </th> <td>   0.110</td>\n",
       "</tr>\n",
       "<tr>\n",
       "  <th>Kurtosis:</th>      <td> 3.724</td> <th>  Cond. No.          </th> <td>    6.29</td>\n",
       "</tr>\n",
       "</table><br/><br/>Notes:<br/>[1] Standard Errors assume that the covariance matrix of the errors is correctly specified."
      ],
      "text/plain": [
       "<class 'statsmodels.iolib.summary.Summary'>\n",
       "\"\"\"\n",
       "                            OLS Regression Results                            \n",
       "==============================================================================\n",
       "Dep. Variable:                      y   R-squared:                       0.940\n",
       "Model:                            OLS   Adj. R-squared:                  0.934\n",
       "Method:                 Least Squares   F-statistic:                     172.0\n",
       "Date:                Fri, 15 Apr 2022   Prob (F-statistic):           3.70e-14\n",
       "Time:                        15:07:56   Log-Likelihood:                 20.696\n",
       "No. Observations:                  25   AIC:                            -35.39\n",
       "Df Residuals:                      22   BIC:                            -31.74\n",
       "Df Model:                           2                                         \n",
       "Covariance Type:            nonrobust                                         \n",
       "==============================================================================\n",
       "                 coef    std err          t      P>|t|      [0.025      0.975]\n",
       "------------------------------------------------------------------------------\n",
       "const          0.4335      0.066      6.571      0.000       0.297       0.570\n",
       "x1             1.6530      0.095     17.355      0.000       1.455       1.851\n",
       "x2             0.0039      0.075      0.053      0.958      -0.151       0.159\n",
       "==============================================================================\n",
       "Omnibus:                        6.353   Durbin-Watson:                   2.228\n",
       "Prob(Omnibus):                  0.042   Jarque-Bera (JB):                4.413\n",
       "Skew:                           0.963   Prob(JB):                        0.110\n",
       "Kurtosis:                       3.724   Cond. No.                         6.29\n",
       "==============================================================================\n",
       "\n",
       "Notes:\n",
       "[1] Standard Errors assume that the covariance matrix of the errors is correctly specified.\n",
       "\"\"\""
      ]
     },
     "execution_count": 22,
     "metadata": {},
     "output_type": "execute_result"
    }
   ],
   "source": [
    "import statsmodels.api as sm\n",
    "xc = sm.add_constant(x)\n",
    "lm1 = sm.OLS(data['y'] , xc).fit()\n",
    "lms1 = lm1.summary()\n",
    "lms1"
   ]
  },
  {
   "cell_type": "markdown",
   "id": "negative-schema",
   "metadata": {},
   "source": [
    "#### .خروجی مدل را به جدول آنالیز واریانس ، ضرایب و آزمون فرض ها ، آماره های مهم تقسیم میکنیم\n",
    "\n",
    "#### در جدول اول ستون اول تعداد نمونه(25) ، درجه آزادی مانده ها(22) ، درجه آزادی مدل(2) و در ستون دوم ضریب تعیین(0.94)،ضریب تعیین\n",
    "#### تعدیل شده (0.934) ، آماره فیشر برای بررسی مناسبت مدل (172) و پی-مقدار آن تقریبا (0.000) محاسبه شده است\n",
    "\n",
    "#### .تحلیل ضریب تعیین در اینجا یعنی 94 درصد تغییرات توسط مدل بیان میشود\n",
    "\n",
    "#### همچنین به دلیل کوچکتر بودن پی-مقدار آماره فیشر از سطح معناداری 0.05 ، فرض جانشین   آزمون ، یعنی مناسبت مدل یا مخالف صفر بودن ضرایب \n",
    "#### .تایید میشود\n",
    "\n",
    "#### در جدول دوم ، عرض از مبدا (0.4335) ، خطای استاندارد آن(0.066) ، همچنین برای آزمون فرض آن ، آماره تی محاسبه شده(6.571) و پی-مقدار آن(0.000) محاسبه شده است که به دلیل کوچکتر بودن آن از سطح معناداری 0.05 ، فرض \n",
    "#### .جانشین آزمون ، یعنی مخالف صفر بودن عرض از مبدا تایید میشود\n",
    "\n",
    "#### ضریب متغیر توضیحی اول(1.653) ، خطای استاندارد آن(0.095) ، همچنین برای آزمون فرض آن ، آماره تی محاسبه شده (17.355) و پی-مقدار آن (0.000) به \n",
    "#### دست آمده است که به دلیل کوچکتر بودن از سطح معناداری 0.05 ، فرض جانشین آزمون یعنی مخالف صفر بودن ضریب متغیر تایید میشود\n",
    "\n",
    "#### ضریب متغیر توضیحی دوم (0.0039) ، خطای استاندارد آن(0.075) ، همچنین برای آزمون فرض آن ، آماره تی محاسبه شده (0.053) و پی-مقدار آن(0.958) به \n",
    "#### دست آمده است که به دلیل بزرگتر بودن از سطح معناداری 0.05 ، فرض صفر آزمون ، صفر بودن ضریب این متغیر تایید میشودو نتیجتا باید\n",
    "#### باید از مدل حذف شود(البته با توجه به نزدیک صفر بودن براورد ضریب و خطای استاندارد آن که باعث پوشش دادن صفر میشود نیز میتوان به عدم \n",
    "#### .لزوم وجود این متغیر در مدل پی برد\n",
    "\n",
    "#### همچنین برای عرض از مبدا و ضرایب متغیرهای توضیحی فاصله اطمینان 95 درصدی محاسبه :شده است\n",
    "####  (0.297,0.57) : عرض از مبدا\n",
    "####  (1.455,1.851) : ضریب متغیر توضیحی اول\n",
    "####  (-0.151,0.159) : ضریب متغیر توضیحی دوم\n",
    "#### با توجه به طویل بودن بازه اطمینان ضریب متغیر توضیحی دوم و پوشش دادن صفر توسط این بازه نیز میتوانیم به عدم لزوم وجود این متغیر در مدل پی ببریم\n",
    "\n",
    "#### در جدول سوم نیز آماره دوربین واتسون و همچنین آماره جارکی برا به همرا پی-مقدارش ارئه .شده که آماره دوربین واتسون به دلیل نزدیک بودن به 2\n",
    "#### نشان از ناهمبسته بودن باقیمانده ها و پی-مقدار آماره جارکی برا به دلیل بزرگرتر بودن از سطح معناداری 0.05 نشان از نرمال بودن توزیع مانده ها دارد\n",
    "\n",
    "#### با توجه به عدم لزوم وجود متغیر توضیحی دوم در مدل با توجه آزمون فرض ضریب آن و همچنین تاییدیه های محک مدل بنابر آزمون مناسبت مدل\n",
    "#### و ضریب تعیین چندگانه ، امکان وجود همخطی میان متغیرهای توضیحی وجود دارد که این ادعا را مورد بررسی قرار میدهیم"
   ]
  },
  {
   "cell_type": "code",
   "execution_count": 23,
   "id": "serial-taylor",
   "metadata": {},
   "outputs": [
    {
     "data": {
      "image/png": "[encoded data removed]",
      "text/plain": [
       "<Figure size 432x288 with 1 Axes>"
      ]
     },
     "metadata": {
      "needs_background": "light"
     },
     "output_type": "display_data"
    }
   ],
   "source": [
    "plt.scatter(x = data['x1'] , y = data['x2'] , color = 'blue')\n",
    "plt.show()"
   ]
  },
  {
   "cell_type": "markdown",
   "id": "comprehensive-adjustment",
   "metadata": {},
   "source": [
    "#### نمودار پراکندگی متغیر توضیحی دوم را در مقابل متغیر توضیحی اول رسم میکنیم که هیچ الگویی در نمودار مشاهده نمیشود ، بنابراین نتیجه میگیریم که\n",
    "#### .همخطی میان متغیرهای توضیحی وجود ندارد\n",
    "\n",
    "#### البته راه های استنباطی بیشتری برای بررسی همخطی وجود دارد که ما در اینجا به از طریق نمودار پراکندگی متغیرهای توضیحی بسنده میکنیم"
   ]
  },
  {
   "cell_type": "markdown",
   "id": "listed-differential",
   "metadata": {},
   "source": [
    "#### حال برای بررسی فرض خطی بودن مدل و مشاهده نوع رابطه متغیرهای توضیحی با متغیر پاسخ ، نمودار متغیرهای اضافه شده را رسم میکنیم"
   ]
  },
  {
   "cell_type": "code",
   "execution_count": 24,
   "id": "biblical-silence",
   "metadata": {},
   "outputs": [
    {
     "data": {
      "image/png": "[encoded data removed]",
      "text/plain": [
       "<Figure size 432x288 with 3 Axes>"
      ]
     },
     "metadata": {
      "needs_background": "light"
     },
     "output_type": "display_data"
    }
   ],
   "source": [
    "z = sm.graphics.plot_partregress_grid(lm1)\n",
    "z.tight_layout(pad=1.0)"
   ]
  },
  {
   "cell_type": "markdown",
   "id": "atomic-heritage",
   "metadata": {},
   "source": [
    "#### با توجه به نمودار سمت راست سطر اول یک رابطه خطی تقریبا قوی میان متغیرپاسخ و متغیر توضیحی اول مشاهده میشود\n",
    "\n",
    "#### نمودار سطر دوم نشان میدهد که هیچ رابطه ای میان متغیرپاسخ و متغیرتوضیحی دوم وجود ندارد که دلیل بر عدم لزوم وجود این متغیر در مدل است"
   ]
  },
  {
   "cell_type": "markdown",
   "id": "suburban-polish",
   "metadata": {},
   "source": [
    "#### با توجه به استدلال های بصری و استنباطی ای که داشتیم متغیرتوضیحی دوم را از مدل حذف کرده و یک مدل خطی ساده میان متغیرپاسخ و متغیر توضیحی اول برازش میدهیم"
   ]
  },
  {
   "cell_type": "markdown",
   "id": "italic-worry",
   "metadata": {},
   "source": [
    "#### بنابراین یک مدل خطی ساده میان متغیر پاسخ و متغیر توضیحی اول برازش میدهیم "
   ]
  },
  {
   "cell_type": "code",
   "execution_count": 25,
   "id": "arctic-recipe",
   "metadata": {},
   "outputs": [
    {
     "data": {
      "text/html": [
       "<table class=\"simpletable\">\n",
       "<caption>OLS Regression Results</caption>\n",
       "<tr>\n",
       "  <th>Dep. Variable:</th>            <td>y</td>        <th>  R-squared:         </th> <td>   0.940</td>\n",
       "</tr>\n",
       "<tr>\n",
       "  <th>Model:</th>                   <td>OLS</td>       <th>  Adj. R-squared:    </th> <td>   0.937</td>\n",
       "</tr>\n",
       "<tr>\n",
       "  <th>Method:</th>             <td>Least Squares</td>  <th>  F-statistic:       </th> <td>   359.6</td>\n",
       "</tr>\n",
       "<tr>\n",
       "  <th>Date:</th>             <td>Fri, 15 Apr 2022</td> <th>  Prob (F-statistic):</th> <td>1.54e-15</td>\n",
       "</tr>\n",
       "<tr>\n",
       "  <th>Time:</th>                 <td>15:08:13</td>     <th>  Log-Likelihood:    </th> <td>  20.695</td>\n",
       "</tr>\n",
       "<tr>\n",
       "  <th>No. Observations:</th>      <td>    25</td>      <th>  AIC:               </th> <td>  -37.39</td>\n",
       "</tr>\n",
       "<tr>\n",
       "  <th>Df Residuals:</th>          <td>    23</td>      <th>  BIC:               </th> <td>  -34.95</td>\n",
       "</tr>\n",
       "<tr>\n",
       "  <th>Df Model:</th>              <td>     1</td>      <th>                     </th>     <td> </td>   \n",
       "</tr>\n",
       "<tr>\n",
       "  <th>Covariance Type:</th>      <td>nonrobust</td>    <th>                     </th>     <td> </td>   \n",
       "</tr>\n",
       "</table>\n",
       "<table class=\"simpletable\">\n",
       "<tr>\n",
       "    <td></td>       <th>coef</th>     <th>std err</th>      <th>t</th>      <th>P>|t|</th>  <th>[0.025</th>    <th>0.975]</th>  \n",
       "</tr>\n",
       "<tr>\n",
       "  <th>const</th> <td>    0.4361</td> <td>    0.044</td> <td>    9.913</td> <td> 0.000</td> <td>    0.345</td> <td>    0.527</td>\n",
       "</tr>\n",
       "<tr>\n",
       "  <th>x1</th>    <td>    1.6512</td> <td>    0.087</td> <td>   18.963</td> <td> 0.000</td> <td>    1.471</td> <td>    1.831</td>\n",
       "</tr>\n",
       "</table>\n",
       "<table class=\"simpletable\">\n",
       "<tr>\n",
       "  <th>Omnibus:</th>       <td> 6.216</td> <th>  Durbin-Watson:     </th> <td>   2.229</td>\n",
       "</tr>\n",
       "<tr>\n",
       "  <th>Prob(Omnibus):</th> <td> 0.045</td> <th>  Jarque-Bera (JB):  </th> <td>   4.300</td>\n",
       "</tr>\n",
       "<tr>\n",
       "  <th>Skew:</th>          <td> 0.954</td> <th>  Prob(JB):          </th> <td>   0.116</td>\n",
       "</tr>\n",
       "<tr>\n",
       "  <th>Kurtosis:</th>      <td> 3.697</td> <th>  Cond. No.          </th> <td>    4.75</td>\n",
       "</tr>\n",
       "</table><br/><br/>Notes:<br/>[1] Standard Errors assume that the covariance matrix of the errors is correctly specified."
      ],
      "text/plain": [
       "<class 'statsmodels.iolib.summary.Summary'>\n",
       "\"\"\"\n",
       "                            OLS Regression Results                            \n",
       "==============================================================================\n",
       "Dep. Variable:                      y   R-squared:                       0.940\n",
       "Model:                            OLS   Adj. R-squared:                  0.937\n",
       "Method:                 Least Squares   F-statistic:                     359.6\n",
       "Date:                Fri, 15 Apr 2022   Prob (F-statistic):           1.54e-15\n",
       "Time:                        15:08:13   Log-Likelihood:                 20.695\n",
       "No. Observations:                  25   AIC:                            -37.39\n",
       "Df Residuals:                      23   BIC:                            -34.95\n",
       "Df Model:                           1                                         \n",
       "Covariance Type:            nonrobust                                         \n",
       "==============================================================================\n",
       "                 coef    std err          t      P>|t|      [0.025      0.975]\n",
       "------------------------------------------------------------------------------\n",
       "const          0.4361      0.044      9.913      0.000       0.345       0.527\n",
       "x1             1.6512      0.087     18.963      0.000       1.471       1.831\n",
       "==============================================================================\n",
       "Omnibus:                        6.216   Durbin-Watson:                   2.229\n",
       "Prob(Omnibus):                  0.045   Jarque-Bera (JB):                4.300\n",
       "Skew:                           0.954   Prob(JB):                        0.116\n",
       "Kurtosis:                       3.697   Cond. No.                         4.75\n",
       "==============================================================================\n",
       "\n",
       "Notes:\n",
       "[1] Standard Errors assume that the covariance matrix of the errors is correctly specified.\n",
       "\"\"\""
      ]
     },
     "execution_count": 25,
     "metadata": {},
     "output_type": "execute_result"
    }
   ],
   "source": [
    "xc1 = sm.add_constant(x[:,0])\n",
    "lm2 = sm.OLS(data['y'] , xc1).fit()\n",
    "lms2 = lm2.summary()\n",
    "lms2"
   ]
  },
  {
   "cell_type": "markdown",
   "id": "printable-blink",
   "metadata": {},
   "source": [
    "#### .خروجی مدل را به جدول آنالیز واریانس ، ضرایب و آزمون فرض ها ، آماره های مهم تقسیم میکنیم\n",
    "\n",
    "#### در جدول اول ستون اول تعداد نمونه(25) ، درجه آزادی مانده ها(23) ، درجه آزادی مدل(1) و در ستون دوم ضریب تعیین(0.94)،ضریب تعیین\n",
    "#### تعدیل شده (0.937) ، آماره فیشر برای بررسی مناسبت مدل (369.6) و پی-مقدار آن تقریبا (0.000) محاسبه شده است\n",
    "\n",
    "#### .تحلیل ضریب تعیین در اینجا یعنی 94 درصد تغییرات توسط مدل بیان میشود\n",
    "\n",
    "#### همچنین به دلیل کوچکتر بودن پی-مقدار آماره فیشر از سطح معناداری 0.05 ، فرض جانشین   آزمون ، یعنی مناسبت مدل یا مخالف صفر بودن ضرایب \n",
    "#### .تایید میشود\n",
    "\n",
    "#### در جدول دوم ، عرض از مبدا (0.4361) ، خطای استاندارد آن(0.044) ، همچنین برای آزمون فرض آن ، آماره تی محاسبه شده(9.913) و پی-مقدار آن(0.000) محاسبه شده است که به دلیل کوچکتر بودن آن از سطح معناداری 0.05 ، فرض \n",
    "#### .جانشین آزمون ، یعنی مخالف صفر بودن عرض از مبدا تایید میشود\n",
    "\n",
    "#### ضریب متغیر توضیحی (1.6512) ، خطای استاندارد آن(0.087) ، همچنین برای آزمون فرض آن ، آماره تی محاسبه شده (18.963) و پی-مقدار آن (0.000) به \n",
    "#### دست آمده است که به دلیل کوچکتر بودن از سطح معناداری 0.05 ، فرض جانشین آزمون یعنی مخالف صفر بودن ضریب متغیر تایید میشود\n",
    "\n",
    "#### همچنین برای عرض از مبدا و ضریب متغیر توضیحی فاصله اطمینان 95 درصدی محاسبه :شده است\n",
    "####  (0.345,0.527) : عرض از مبدا\n",
    "####  (1.471,1.831) : ضریب متغیر توضیحی اول\n",
    "\n",
    "#### در جدول سوم نیز آماره دوربین واتسون و همچنین آماره جارکی برا به همرا پی-مقدارش ارئه .شده که آماره دوربین واتسون به دلیل نزدیک بودن به 2\n",
    "#### نشان از ناهمبسته بودن باقیمانده ها و پی-مقدار آماره جارکی برا به دلیل بزرگرتر بودن از سطح معناداری 0.05 نشان از نرمال بودن توزیع مانده ها دارد"
   ]
  },
  {
   "cell_type": "code",
   "execution_count": 26,
   "id": "cordless-ghana",
   "metadata": {},
   "outputs": [
    {
     "data": {
      "text/plain": [
       "array([1.39379267, 1.85613123, 0.91494201, 0.76633319, 1.36076848,\n",
       "       0.89842992, 0.56818809, 1.11308711, 0.79935737, 1.01401456,\n",
       "       1.41030476, 0.79935737, 0.86540574, 0.63423646, 1.50937731,\n",
       "       1.59193777, 0.9314541 , 1.59193777, 1.08006293, 1.62496195,\n",
       "       1.17913548, 1.77357077, 0.50213972, 0.76633319, 2.00474005])"
      ]
     },
     "execution_count": 26,
     "metadata": {},
     "output_type": "execute_result"
    }
   ],
   "source": [
    "fit_value = lm2.predict(xc1)\n",
    "fit_value"
   ]
  },
  {
   "cell_type": "markdown",
   "id": "seeing-suggestion",
   "metadata": {},
   "source": [
    "#### .در سلول کد بالا بردار مقادیر برازش شده را محاسبه کرده ایم"
   ]
  },
  {
   "cell_type": "markdown",
   "id": "consecutive-scholar",
   "metadata": {},
   "source": [
    "#### .در آخر نیز به تحلیل مانده ها میپردازیم"
   ]
  },
  {
   "cell_type": "markdown",
   "id": "cleared-allowance",
   "metadata": {},
   "source": [
    "#### باقیمانده های مدل را جدا کرده و با مقادیر برازش یافته که در سلول کد قبل محاسبه کرده ایم در غالب یک دیتافریم نمایش میدهیم"
   ]
  },
  {
   "cell_type": "code",
   "execution_count": 27,
   "id": "harmful-federation",
   "metadata": {},
   "outputs": [
    {
     "data": {
      "text/html": [
       "<div>\n",
       "<style scoped>\n",
       "    .dataframe tbody tr th:only-of-type {\n",
       "        vertical-align: middle;\n",
       "    }\n",
       "\n",
       "    .dataframe tbody tr th {\n",
       "        vertical-align: top;\n",
       "    }\n",
       "\n",
       "    .dataframe thead th {\n",
       "        text-align: right;\n",
       "    }\n",
       "</style>\n",
       "<table border=\"1\" class=\"dataframe\">\n",
       "  <thead>\n",
       "    <tr style=\"text-align: right;\">\n",
       "      <th></th>\n",
       "      <th>resi</th>\n",
       "      <th>fit_value</th>\n",
       "    </tr>\n",
       "  </thead>\n",
       "  <tbody>\n",
       "    <tr>\n",
       "      <th>0</th>\n",
       "      <td>0.056207</td>\n",
       "      <td>1.393793</td>\n",
       "    </tr>\n",
       "    <tr>\n",
       "      <th>1</th>\n",
       "      <td>0.073869</td>\n",
       "      <td>1.856131</td>\n",
       "    </tr>\n",
       "    <tr>\n",
       "      <th>2</th>\n",
       "      <td>-0.104942</td>\n",
       "      <td>0.914942</td>\n",
       "    </tr>\n",
       "    <tr>\n",
       "      <th>3</th>\n",
       "      <td>-0.156333</td>\n",
       "      <td>0.766333</td>\n",
       "    </tr>\n",
       "    <tr>\n",
       "      <th>4</th>\n",
       "      <td>0.189232</td>\n",
       "      <td>1.360768</td>\n",
       "    </tr>\n",
       "    <tr>\n",
       "      <th>5</th>\n",
       "      <td>0.051570</td>\n",
       "      <td>0.898430</td>\n",
       "    </tr>\n",
       "    <tr>\n",
       "      <th>6</th>\n",
       "      <td>-0.118188</td>\n",
       "      <td>0.568188</td>\n",
       "    </tr>\n",
       "    <tr>\n",
       "      <th>7</th>\n",
       "      <td>0.026913</td>\n",
       "      <td>1.113087</td>\n",
       "    </tr>\n",
       "    <tr>\n",
       "      <th>8</th>\n",
       "      <td>-0.059357</td>\n",
       "      <td>0.799357</td>\n",
       "    </tr>\n",
       "    <tr>\n",
       "      <th>9</th>\n",
       "      <td>-0.034015</td>\n",
       "      <td>1.014015</td>\n",
       "    </tr>\n",
       "    <tr>\n",
       "      <th>10</th>\n",
       "      <td>-0.000305</td>\n",
       "      <td>1.410305</td>\n",
       "    </tr>\n",
       "    <tr>\n",
       "      <th>11</th>\n",
       "      <td>0.010643</td>\n",
       "      <td>0.799357</td>\n",
       "    </tr>\n",
       "    <tr>\n",
       "      <th>12</th>\n",
       "      <td>0.024594</td>\n",
       "      <td>0.865406</td>\n",
       "    </tr>\n",
       "    <tr>\n",
       "      <th>13</th>\n",
       "      <td>0.045764</td>\n",
       "      <td>0.634236</td>\n",
       "    </tr>\n",
       "    <tr>\n",
       "      <th>14</th>\n",
       "      <td>-0.119377</td>\n",
       "      <td>1.509377</td>\n",
       "    </tr>\n",
       "    <tr>\n",
       "      <th>15</th>\n",
       "      <td>-0.061938</td>\n",
       "      <td>1.591938</td>\n",
       "    </tr>\n",
       "    <tr>\n",
       "      <th>16</th>\n",
       "      <td>-0.021454</td>\n",
       "      <td>0.931454</td>\n",
       "    </tr>\n",
       "    <tr>\n",
       "      <th>17</th>\n",
       "      <td>-0.101938</td>\n",
       "      <td>1.591938</td>\n",
       "    </tr>\n",
       "    <tr>\n",
       "      <th>18</th>\n",
       "      <td>0.299937</td>\n",
       "      <td>1.080063</td>\n",
       "    </tr>\n",
       "    <tr>\n",
       "      <th>19</th>\n",
       "      <td>0.105038</td>\n",
       "      <td>1.624962</td>\n",
       "    </tr>\n",
       "    <tr>\n",
       "      <th>20</th>\n",
       "      <td>-0.069135</td>\n",
       "      <td>1.179135</td>\n",
       "    </tr>\n",
       "    <tr>\n",
       "      <th>21</th>\n",
       "      <td>-0.093571</td>\n",
       "      <td>1.773571</td>\n",
       "    </tr>\n",
       "    <tr>\n",
       "      <th>22</th>\n",
       "      <td>0.157860</td>\n",
       "      <td>0.502140</td>\n",
       "    </tr>\n",
       "    <tr>\n",
       "      <th>23</th>\n",
       "      <td>-0.076333</td>\n",
       "      <td>0.766333</td>\n",
       "    </tr>\n",
       "    <tr>\n",
       "      <th>24</th>\n",
       "      <td>-0.024740</td>\n",
       "      <td>2.004740</td>\n",
       "    </tr>\n",
       "  </tbody>\n",
       "</table>\n",
       "</div>"
      ],
      "text/plain": [
       "        resi  fit_value\n",
       "0   0.056207   1.393793\n",
       "1   0.073869   1.856131\n",
       "2  -0.104942   0.914942\n",
       "3  -0.156333   0.766333\n",
       "4   0.189232   1.360768\n",
       "5   0.051570   0.898430\n",
       "6  -0.118188   0.568188\n",
       "7   0.026913   1.113087\n",
       "8  -0.059357   0.799357\n",
       "9  -0.034015   1.014015\n",
       "10 -0.000305   1.410305\n",
       "11  0.010643   0.799357\n",
       "12  0.024594   0.865406\n",
       "13  0.045764   0.634236\n",
       "14 -0.119377   1.509377\n",
       "15 -0.061938   1.591938\n",
       "16 -0.021454   0.931454\n",
       "17 -0.101938   1.591938\n",
       "18  0.299937   1.080063\n",
       "19  0.105038   1.624962\n",
       "20 -0.069135   1.179135\n",
       "21 -0.093571   1.773571\n",
       "22  0.157860   0.502140\n",
       "23 -0.076333   0.766333\n",
       "24 -0.024740   2.004740"
      ]
     },
     "execution_count": 27,
     "metadata": {},
     "output_type": "execute_result"
    }
   ],
   "source": [
    "resi = lm2.resid\n",
    "data1 = pd.DataFrame({'resi': resi , 'fit_value': fit_value})\n",
    "data1"
   ]
  },
  {
   "cell_type": "code",
   "execution_count": 28,
   "id": "entitled-travel",
   "metadata": {},
   "outputs": [
    {
     "name": "stderr",
     "output_type": "stream",
     "text": [
      "C:\\Users\\Persian\\Anaconda3\\envs\\Rpy\\lib\\site-packages\\statsmodels\\graphics\\gofplots.py:993: UserWarning: marker is redundantly defined by the 'marker' keyword argument and the fmt string \"bo\" (-> marker='o'). The keyword argument will take precedence.\n",
      "  ax.plot(x, y, fmt, **plot_style)\n"
     ]
    },
    {
     "data": {
      "image/png": "[encoded data removed]",
      "text/plain": [
       "<Figure size 432x288 with 1 Axes>"
      ]
     },
     "metadata": {
      "needs_background": "light"
     },
     "output_type": "display_data"
    }
   ],
   "source": [
    "import matplotlib.pyplot as plt\n",
    "from statsmodels.graphics import gofplots as sgg\n",
    "sgg.qqplot(data1['resi'] , line = 's')\n",
    "plt.show()"
   ]
  },
  {
   "cell_type": "markdown",
   "id": "satisfactory-newfoundland",
   "metadata": {},
   "source": [
    "#### نمودار فوق یک نمودار چندک چندک برای مطابقت داده ها (مانده ها) با توزیع نرمال است \n",
    "#### که بر اساس توزیع تجربی داده ها رسم شده است و خط نمودار نیز بر اساس توزیع نرمال با\n",
    "#### میانگین صفر و واریانس یک رسم شده است و هرچه که نقاط رسم شده به خط ترسیم\n",
    "#### شده نزدیک باشد و منطبق بر آن باشد فرض نرمال بودن داده ها با قوت بیشتری تایید میشود\n",
    "\n",
    "#### با توجه به نمودار فرض نرمال بودن داده ها تایید میشود."
   ]
  },
  {
   "cell_type": "markdown",
   "id": "warming-matter",
   "metadata": {},
   "source": [
    "#### .برای اطمینان از این ادعا به استنباط آماری درباره توزیع داده ها میپردازیم"
   ]
  },
  {
   "cell_type": "code",
   "execution_count": 29,
   "id": "dense-father",
   "metadata": {},
   "outputs": [
    {
     "name": "stdout",
     "output_type": "stream",
     "text": [
      "ShapiroResult(statistic=0.935318648815155, pvalue=0.11536164581775665)\n",
      "NormaltestResult(statistic=6.216380258431699, pvalue=0.04468175039854325)\n",
      "Anderson.result   statistic :  0.4646212485095589\n",
      "15.0  :  0.514\n",
      "10.0  :  0.586\n",
      "5.0  :  0.703\n",
      "2.5  :  0.82\n",
      "1.0  :  0.975\n"
     ]
    }
   ],
   "source": [
    "import scipy.stats as ss\n",
    "a = ss.shapiro(data1['resi'])\n",
    "b = ss.normaltest(data1['resi'])\n",
    "c = ss.anderson(data1['resi'])\n",
    "\n",
    "print(a) ; print(b)\n",
    "\n",
    "print('Anderson.result','  statistic : ',c.statistic) ; cpp = c.statistic\n",
    "for i in range(len(c.critical_values)):\n",
    "    q = c.significance_level[i] ; w = c.critical_values[i]\n",
    "    print(q,' : ',w)\n",
    "    if q == 5 :\n",
    "        cp = w"
   ]
  },
  {
   "cell_type": "markdown",
   "id": "helpful-adobe",
   "metadata": {},
   "source": [
    "#### در خروجی مدل نیز با استفاده از آماره جارکی برا و پی-مقدار آن نرمال بودن ماند ها را تایید کردیم ، در اینجا نیز با کمک آزمون فرض شاپیرو ویلک \n",
    "#### .اندرسون دارلینگ و نرمال تست و به دلیل بزرگتر بودن پی-مقدار آنها از 0.05 از نرمال بودن توزیع مانده ها مطمئن میشویم\n",
    "\n",
    "####  0.11536164581775665 : پی-مقدار آزمون شاپیرو ویلک\n",
    "####  0.04468175039854325 : پی-مقدار آزمون نرمال تست\n",
    "#### 0.703               : پی-مقدار آزمون اندرسون دارلینگ\n",
    "\n",
    "#### البته پی-مقدار آزمون نرمال تست کمی کوچکتر از سطح معناداری 0.05 است که با اغماض آن را میپذیریم"
   ]
  },
  {
   "cell_type": "markdown",
   "id": "hindu-torture",
   "metadata": {},
   "source": [
    "#### نمودار پراکنش مقادیر مانده ها در برابر مقادیر برازش شده را رسم میکنیم ، از این نمودار برای بررسی فرض خطی بودن مدل و همگنی واریانس خطاها استفاده میکنیم"
   ]
  },
  {
   "cell_type": "code",
   "execution_count": 30,
   "id": "prescription-tuner",
   "metadata": {},
   "outputs": [
    {
     "data": {
      "image/png": "[encoded data removed]",
      "text/plain": [
       "<Figure size 432x288 with 1 Axes>"
      ]
     },
     "metadata": {
      "needs_background": "light"
     },
     "output_type": "display_data"
    }
   ],
   "source": [
    "plt.scatter(x = data1['fit_value'] , y = data1['resi'] , color = 'red')\n",
    "plt.axhline(0)\n",
    "plt.axhline(0.3 , color = 'yellow')\n",
    "plt.axhline(-0.3 , color = 'yellow')\n",
    "plt.show()"
   ]
  },
  {
   "cell_type": "markdown",
   "id": "first-gather",
   "metadata": {},
   "source": [
    "#### با توجه به اینکه نقاط نمودار در یک نوار افقی و حول محور صفر به صورت تصادفی و بدون داشتن الگوی خاصی توزیع شده اند ،بنابراین فرض خطی بودن مدل تایید میشود\n",
    "\n",
    "#### با توجه به اینکه پراکندگی نقاط نمودار در سرتاسر محور افقی یکسان است و الگوی خاصی ندارد ، بنابراین فرض همگنی واریانس خطاها نیز تایید میشود"
   ]
  },
  {
   "cell_type": "markdown",
   "id": "champion-complex",
   "metadata": {},
   "source": [
    "#### .حال فرض ناهمبسته بودن خطاها را بررسی میکنیم"
   ]
  },
  {
   "cell_type": "code",
   "execution_count": 31,
   "id": "analyzed-macintosh",
   "metadata": {},
   "outputs": [
    {
     "data": {
      "image/png": "[encoded data removed]",
      "text/plain": [
       "<Figure size 432x288 with 1 Axes>"
      ]
     },
     "metadata": {
      "needs_background": "light"
     },
     "output_type": "display_data"
    }
   ],
   "source": [
    "sm.graphics.tsa.plot_acf(data1['resi'] , color = 'red')\n",
    "plt.show()"
   ]
  },
  {
   "cell_type": "markdown",
   "id": "offshore-attitude",
   "metadata": {},
   "source": [
    "#### با توجه به نمودار خودهمبستگی مانده ها ، تمام لگ ها به جز لگ صفر و دو همه داخل بازه اطمینانشان هستند ، لگ صفر منطقا و همیشه یک هست ، بنابراین چون فقط \n",
    "#### یک لگ بیرون از بازه اطمینان هست با اغماض میتوانیم ناهمبسته بودن مانده ها را تایید کنیم\n",
    "\n",
    "#### البته در خروجی مدل نیز با استفاده از آماره دوربین واتسون ناهمبسته بودن مانده ها تایید شده بود"
   ]
  },
  {
   "cell_type": "markdown",
   "id": "offensive-physics",
   "metadata": {},
   "source": [
    "##  : نتیجه گیری تحلیل مانده ها\n",
    "### .هرچهار فرض بنیادی تایید شدند\n",
    "\n",
    "#### فرض خطی بودن مدل رگرسیونی \n",
    "#### فرض همگن بودن واریانس خطاها\n",
    "#### فرض ناهمبسته بودن خطاها\n",
    "#### فرض نرمال بودن خطاها"
   ]
  },
  {
   "cell_type": "markdown",
   "id": "vanilla-conversion",
   "metadata": {},
   "source": [
    "# نتیجه گیری نهایی\n",
    "\n",
    "### : مدل زیر مورد تایید میباشد\n",
    "\n",
    "### y = 0.4361 + 1.6512*x1"
   ]
  }
 ],
 "metadata": {
  "kernelspec": {
   "display_name": "Python 3",
   "language": "python",
   "name": "python3"
  },
  "language_info": {
   "codemirror_mode": {
    "name": "ipython",
    "version": 3
   },
   "file_extension": ".py",
   "mimetype": "text/x-python",
   "name": "python",
   "nbconvert_exporter": "python",
   "pygments_lexer": "ipython3",
   "version": "3.8.3"
  }
 },
 "nbformat": 4,
 "nbformat_minor": 5
}
